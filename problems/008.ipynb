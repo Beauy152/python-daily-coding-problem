{
 "cells": [
  {
   "attachments": {},
   "cell_type": "markdown",
   "metadata": {},
   "source": [
    "# Problem 8\n",
    "## Asked by Google\n",
    "### description\n",
    "\n",
    "A unival (universal value) tree, is a tree where all nodes under it have the same value.\n",
    "\n",
    "Given the root to a binary tree, count all unival subtrees\n",
    "```\n",
    "eg: \n",
    "   0\n",
    "  / \\\n",
    " 1   0\n",
    "    / \\\n",
    "   1   0\n",
    "  / \\\n",
    " 1   1\n",
    "```\n",
    "has 5 unval subtrees"
   ]
  },
  {
   "attachments": {},
   "cell_type": "markdown",
   "metadata": {},
   "source": [
    "# Implementation"
   ]
  },
  {
   "cell_type": "code",
   "execution_count": 41,
   "metadata": {},
   "outputs": [],
   "source": [
    "# Binary Tree - borrowed from challenge 003\n",
    "class Node:\n",
    "    def __init__(self,val, left=None, right=None) -> None:\n",
    "        self.val = val\n",
    "        self.left = left\n",
    "        self.right = right"
   ]
  },
  {
   "cell_type": "code",
   "execution_count": 42,
   "metadata": {},
   "outputs": [],
   "source": [
    "def get_tree_values(root:Node) -> list[str]:\n",
    "    \"\"\"Returns array of all non-null values of tree recursively\"\"\"\n",
    "    def helper(node):\n",
    "        if node:\n",
    "            vals.append(str(node.val))\n",
    "            helper(node.left)\n",
    "            helper(node.right)\n",
    "\n",
    "    vals = []\n",
    "    helper(root)\n",
    "    return vals"
   ]
  },
  {
   "cell_type": "code",
   "execution_count": 43,
   "metadata": {},
   "outputs": [],
   "source": [
    "def count_unival_trees(root:Node) -> int:\n",
    "    \"\"\"Recurse over tree. for each node/subtree, check if is unival\"\"\"\n",
    "    \"\"\".:. get set (unique) of all values of tree (serialise), if set.length> 1 then not unival\"\"\"\n",
    "    def helper(node:Node) -> any:\n",
    "        if node:\n",
    "            sub_tree_values = get_tree_values(node)\n",
    "            if len(set(sub_tree_values)) == 1:# Is subtree\n",
    "                univals.append(True)\n",
    "            \n",
    "            helper(node.left)\n",
    "            helper(node.right)\n",
    "            \n",
    "\n",
    "    univals = []\n",
    "    helper(root)\n",
    "    return len(univals)"
   ]
  },
  {
   "attachments": {},
   "cell_type": "markdown",
   "metadata": {},
   "source": [
    "### Test Cases\n",
    "**The follow test was provided**"
   ]
  },
  {
   "cell_type": "code",
   "execution_count": 46,
   "metadata": {},
   "outputs": [],
   "source": [
    "tree = Node('0',Node('1'),Node('0',Node('1',Node('1'),Node('1')),Node('0')))\n",
    "assert count_unival_trees(tree) == 5"
   ]
  },
  {
   "cell_type": "code",
   "execution_count": 48,
   "metadata": {},
   "outputs": [
    {
     "name": "stdout",
     "output_type": "stream",
     "text": [
      "7\n"
     ]
    }
   ],
   "source": [
    "tree = Node('1',Node('1'),Node('1',Node('1',Node('1'),Node('1')),Node('1')))\n",
    "print(count_unival_trees(tree))"
   ]
  },
  {
   "attachments": {},
   "cell_type": "markdown",
   "metadata": {},
   "source": [
    "# Retrospective"
   ]
  },
  {
   "attachments": {},
   "cell_type": "markdown",
   "metadata": {},
   "source": [
    "This challenge was relatively easy, particularly following on from challenge #3, which this one borrowed heavily.\n",
    "\n",
    "The most difficult part of this one was feeling of being paralyzed with choice of how to implement it. \n",
    "\n",
    "I'm almost certain that there must be a much more efficient method of implementation here, but i'm quite happy nonetheless"
   ]
  }
 ],
 "metadata": {
  "kernelspec": {
   "display_name": "venv",
   "language": "python",
   "name": "python3"
  },
  "language_info": {
   "codemirror_mode": {
    "name": "ipython",
    "version": 3
   },
   "file_extension": ".py",
   "mimetype": "text/x-python",
   "name": "python",
   "nbconvert_exporter": "python",
   "pygments_lexer": "ipython3",
   "version": "3.11.0"
  },
  "orig_nbformat": 4
 },
 "nbformat": 4,
 "nbformat_minor": 2
}
