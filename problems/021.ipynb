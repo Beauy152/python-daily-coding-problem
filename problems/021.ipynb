{
 "cells": [
  {
   "attachments": {},
   "cell_type": "markdown",
   "metadata": {},
   "source": [
    "# Problem 21\n",
    "## Asked by Snapchat\n",
    "### description\n",
    "\n",
    "Given an array of time intervals (start, end) for classroom lectures (possibly overlapping), find the minimum number of rooms required.\n",
    "\n",
    "e.g\n",
    "[(30,75),(0,50),(60,150)] should return 2"
   ]
  },
  {
   "attachments": {},
   "cell_type": "markdown",
   "metadata": {},
   "source": [
    "\n",
    "(0,50  ) = A\n",
    "\n",
    "(30,75 ) = B\n",
    "\n",
    "(60,150) = C\n",
    "\n",
    "A & B -> overlap\n",
    "\n",
    "B & C -> overlap"
   ]
  },
  {
   "attachments": {},
   "cell_type": "markdown",
   "metadata": {},
   "source": [
    "# Implementation"
   ]
  },
  {
   "cell_type": "code",
   "execution_count": 9,
   "metadata": {},
   "outputs": [],
   "source": [
    "def num_required_rooms(bookings:list[tuple[int,int]]) -> int:\n",
    "    room_schedules = []\n",
    "\n",
    "    # Sort tuples by earliest start time\n",
    "    bookings.sort(key=lambda x:x[0])\n",
    "    current_booking = bookings.pop(0)\n",
    "\n",
    "    while True:\n",
    "        new_room_schedule = [current_booking]\n",
    "\n",
    "        # Exit condition\n",
    "        if len(bookings) <= 0:\n",
    "            room_schedules.append(new_room_schedule)\n",
    "            break\n",
    "\n",
    "        #For the current booking, find all bookings where there is no overlap\n",
    "        for index,schedule in enumerate(bookings):\n",
    "            # Check new schedule item begins after last item's end\n",
    "            if schedule[0] > new_room_schedule[-1][1]:\n",
    "                new_room_schedule.append(\n",
    "                    bookings.pop(index) )\n",
    "\n",
    "        room_schedules.append(new_room_schedule)\n",
    "        current_booking = bookings.pop(0)\n",
    "\n",
    "    return len(room_schedules)"
   ]
  },
  {
   "attachments": {},
   "cell_type": "markdown",
   "metadata": {},
   "source": [
    "# Test Cases"
   ]
  },
  {
   "cell_type": "code",
   "execution_count": 11,
   "metadata": {},
   "outputs": [],
   "source": [
    "bookings = [(30,75),(0,50),(60,150)]\n",
    "\n",
    "assert num_required_rooms(bookings) == 2"
   ]
  },
  {
   "attachments": {},
   "cell_type": "markdown",
   "metadata": {},
   "source": [
    "# Retrospective"
   ]
  },
  {
   "attachments": {},
   "cell_type": "markdown",
   "metadata": {},
   "source": [
    "I liked this problem, it was different from the others in that it actually felt like a practical task, rather than a random optimisation of permutation problem. Although simple, it really allows you to explore many different approaches."
   ]
  }
 ],
 "metadata": {
  "kernelspec": {
   "display_name": "venv",
   "language": "python",
   "name": "python3"
  },
  "language_info": {
   "codemirror_mode": {
    "name": "ipython",
    "version": 3
   },
   "file_extension": ".py",
   "mimetype": "text/x-python",
   "name": "python",
   "nbconvert_exporter": "python",
   "pygments_lexer": "ipython3",
   "version": "3.11.0"
  },
  "orig_nbformat": 4
 },
 "nbformat": 4,
 "nbformat_minor": 2
}
