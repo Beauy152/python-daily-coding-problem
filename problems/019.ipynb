{
 "cells": [
  {
   "attachments": {},
   "cell_type": "markdown",
   "metadata": {},
   "source": [
    "# Problem 19\n",
    "## Asked by Facebook\n",
    "### description\n",
    "\n",
    "A builder is building a row of N houses, which can be of K different colours. His goal is to minimise cost while ensuring no two neighbouring houses are of the same colour.\n",
    "\n",
    "Given an N x K matrix, where the n-th row and k-th column represents the cost to build the n-th house with k-th colour, return the minimum cost which achieves this goal."
   ]
  },
  {
   "attachments": {},
   "cell_type": "markdown",
   "metadata": {},
   "source": [
    "## Assumptions\n",
    "\n",
    "* Houses are a fixed cost. It costs X amount to build any given house.\n",
    "* As no cost was provided for colours, assume they are abitrary -\n",
    "* This problem seems flawed, as there is no indication that the houses MUST be of K different colours, meaning that by simply alternating between colours A & B this problem could be solved assuming A & B are the two cheapest paints.\n",
    "* If the rules were to use all colours, then we would need a limitation that N >= K, so that each colour could be used at least once.\n"
   ]
  },
  {
   "attachments": {},
   "cell_type": "markdown",
   "metadata": {},
   "source": [
    "# Implementation"
   ]
  },
  {
   "cell_type": "code",
   "execution_count": 37,
   "metadata": {},
   "outputs": [],
   "source": [
    "from math import inf\n",
    "\n",
    "def minimum_cost(costs:list[list[int]]) -> int:\n",
    "    N = len(costs)\n",
    "    K = len(costs[0])\n",
    "\n",
    "    # Create a table to store the minimum costs\n",
    "    cost_matrix = [[inf] * K for _n in range(N)]\n",
    "\n",
    "    # Init first row\n",
    "    for i in range(K):\n",
    "        cost_matrix[0][i] = costs[0][i]\n",
    "\n",
    "    # Houses\n",
    "    for house in range(1, N):\n",
    "        # Colors\n",
    "        for colour in range(K):\n",
    "            # Calculate minimum cost\n",
    "            for prev_col in range(K):\n",
    "                if prev_col != colour:\n",
    "                    cost_matrix[house][colour] = \\\n",
    "                        min(\n",
    "                            cost_matrix[house][colour],\n",
    "                            cost_matrix[house - 1][prev_col] + costs[house][colour]\n",
    "                        )\n",
    "\n",
    "    # Find the minimum cost \n",
    "    min_cost = min(cost_matrix[-1])\n",
    "\n",
    "    return min_cost"
   ]
  },
  {
   "cell_type": "code",
   "execution_count": 39,
   "metadata": {},
   "outputs": [
    {
     "name": "stdout",
     "output_type": "stream",
     "text": [
      "7\n"
     ]
    }
   ],
   "source": [
    "N,K = 5,3\n",
    "\n",
    "matrix = []\n",
    "for i in range (N):\n",
    "    # Assuming fixed costs per-house\n",
    "    matrix.append([price for price in range(1,K+1)])\n",
    "\n",
    "costs = minimum_cost(matrix)\n",
    "print(costs)"
   ]
  },
  {
   "attachments": {},
   "cell_type": "markdown",
   "metadata": {},
   "source": [
    "# Retrospective"
   ]
  },
  {
   "attachments": {},
   "cell_type": "markdown",
   "metadata": {},
   "source": [
    "I found this problem quite hard. it was very hard to wrap my head around initally. I put too much time into thinking about the logic i needed to implement, rather than thinking about how simple it actually was. It took me longer than it needed to; i need to practice dynamic programming more."
   ]
  }
 ],
 "metadata": {
  "kernelspec": {
   "display_name": "venv",
   "language": "python",
   "name": "python3"
  },
  "language_info": {
   "codemirror_mode": {
    "name": "ipython",
    "version": 3
   },
   "file_extension": ".py",
   "mimetype": "text/x-python",
   "name": "python",
   "nbconvert_exporter": "python",
   "pygments_lexer": "ipython3",
   "version": "3.11.0"
  },
  "orig_nbformat": 4
 },
 "nbformat": 4,
 "nbformat_minor": 2
}
