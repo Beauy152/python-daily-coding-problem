{
 "cells": [
  {
   "attachments": {},
   "cell_type": "markdown",
   "metadata": {},
   "source": [
    "# Problem 9\n",
    "## Asked by Airbnb\n",
    "### description\n",
    "\n",
    "Given a list of int's, write a function that returns the largest sum of non-adjacent numbers. Numbers can be 0 or negative.\n",
    "\n",
    "e.g; \n",
    "[2,4,6,2,6] -> 13 #since we pick 2 & 6.\n",
    "[5,1,1,5] -> 10 since we pick 5 & 5.\n",
    "\n",
    "Extension: can you do this in O(n) time & constant space?"
   ]
  },
  {
   "attachments": {},
   "cell_type": "markdown",
   "metadata": {},
   "source": [
    "# Implementation"
   ]
  },
  {
   "cell_type": "code",
   "execution_count": 69,
   "metadata": {},
   "outputs": [],
   "source": [
    "from math import ceil\n",
    "def unzip_list(_list:list[int]) -> tuple[list[int],list[int]]:\n",
    "    \"\"\"This function would accept a list, and return two lists of alternating values from original list.\"\"\"\n",
    "    split_size = ceil(len(_list)/2)\n",
    "\n",
    "    # Preset list sizes\n",
    "    list_a = [] * split_size\n",
    "    list_b = [] * (len(_list) - split_size)\n",
    "\n",
    "    for index,num in enumerate(_list):\n",
    "        if index % 2 == 0:\n",
    "            list_b.append(num)\n",
    "        else:\n",
    "            list_a.append(num)\n",
    "        \n",
    "    return list_a,list_b"
   ]
  },
  {
   "cell_type": "code",
   "execution_count": 70,
   "metadata": {},
   "outputs": [],
   "source": [
    "# Unzip Test-cases\n",
    "a,b = unzip_list([1,2,3,4,5,6,7])\n",
    "assert a == [2,4,6]\n",
    "assert b == [1,3,5,7]\n",
    "\n",
    "a,b = unzip_list([1,2,3,4,5,6])\n",
    "assert a == [2,4,6]\n",
    "assert b == [1,3,5]\n"
   ]
  },
  {
   "cell_type": "code",
   "execution_count": 71,
   "metadata": {},
   "outputs": [],
   "source": [
    "def largest_non_adjacent_sum(_list:list[int]) -> int:\n",
    "    list_a,list_b = unzip_list(_list)\n",
    "    \n",
    "    return max([\n",
    "        sum(list_a),    # Alternating\n",
    "        sum(list_b),    # Opposite Alternating\n",
    "        sum(_list[::3]),# size 2 gap\n",
    "        sum(_list[1::3])# offset size 2 gap\n",
    "    ])"
   ]
  },
  {
   "attachments": {},
   "cell_type": "markdown",
   "metadata": {},
   "source": [
    "## Extension - O(n) & Constant Space"
   ]
  },
  {
   "attachments": {},
   "cell_type": "markdown",
   "metadata": {},
   "source": [
    "Using ChatGPT-4 i asked it to evaluate the time & space complextiy of this implementaion, and it responsed with:\n",
    "\n",
    "**Time Complexity**\n",
    "\n",
    "The unzip_list function runs in O(n) time because it iterates over the input list once.\n",
    "\n",
    "The largest_non_adjacent_sum function is also O(n) as it runs unzip_list and also slices and sums the list four times. Each operation is linear time, so the overall time complexity is linear.\n",
    "\n",
    "Therefore, the total time complexity is O(n).\n",
    "\n",
    "**Space Complexity**\n",
    "\n",
    "The unzip_list function creates two lists that are each at most n/2 elements long, where n is the length of the input list. Therefore, its space complexity is O(n).\n",
    "\n",
    "The largest_non_adjacent_sum function generates a new list each time the sum function is called. In the worst case scenario, these lists are n/3 elements long. As such, the space complexity of this function is also O(n), as the length of these lists scales linearly with the length of the input list.\n",
    "\n",
    "Hence, the overall space complexity is also O(n).\n",
    "\n",
    "\n",
    "To sum up, your code has a time complexity of O(n) and a space complexity of O(n)."
   ]
  },
  {
   "attachments": {},
   "cell_type": "markdown",
   "metadata": {},
   "source": [
    "# Test Cases\n",
    "**The follow test was provided**"
   ]
  },
  {
   "cell_type": "code",
   "execution_count": 72,
   "metadata": {},
   "outputs": [],
   "source": [
    "assert largest_non_adjacent_sum([2,4,6,2,5]) == 13\n",
    "assert largest_non_adjacent_sum([5,1,1,5]) == 10"
   ]
  },
  {
   "attachments": {},
   "cell_type": "markdown",
   "metadata": {},
   "source": [
    "# Retrospective"
   ]
  },
  {
   "attachments": {},
   "cell_type": "markdown",
   "metadata": {},
   "source": [
    "When i wrote my first solution to this problem, which i though was surprisingly simple - only for me to realise that i had in-fact not read the question fully; i had attempted to find the the largest sum of pairs which are non-adjacent; not the largest sum of any k non-adjacent numbers.\n",
    "\n",
    "Overall though, i found this problem far more approachable to begin with, and enjoyed the process; it was also to know that my original solution was already effectively O(n) for time & space complexity."
   ]
  }
 ],
 "metadata": {
  "kernelspec": {
   "display_name": "venv",
   "language": "python",
   "name": "python3"
  },
  "language_info": {
   "codemirror_mode": {
    "name": "ipython",
    "version": 3
   },
   "file_extension": ".py",
   "mimetype": "text/x-python",
   "name": "python",
   "nbconvert_exporter": "python",
   "pygments_lexer": "ipython3",
   "version": "3.11.0"
  },
  "orig_nbformat": 4
 },
 "nbformat": 4,
 "nbformat_minor": 2
}
