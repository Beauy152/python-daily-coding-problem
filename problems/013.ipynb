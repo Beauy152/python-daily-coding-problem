{
 "cells": [
  {
   "attachments": {},
   "cell_type": "markdown",
   "metadata": {},
   "source": [
    "# Problem 13\n",
    "## Asked by Amazon\n",
    "### description\n",
    "\n",
    "Given an integer `k`, and string `s` find the length of the longest substring that contains at most k distinct characters.\n",
    "\n",
    "E.g.\n",
    "\n",
    "s = \"abcba\" & k = 2 -> longest substring with k distinct characters is bcb"
   ]
  },
  {
   "attachments": {},
   "cell_type": "markdown",
   "metadata": {},
   "source": [
    "# Implementation"
   ]
  },
  {
   "cell_type": "code",
   "execution_count": 5,
   "metadata": {},
   "outputs": [],
   "source": [
    "def num_distinct_chars(s:str) -> int:\n",
    "    \"\"\"Given a string, return the number of unique characters\"\"\"\n",
    "    return len(set(s))"
   ]
  },
  {
   "cell_type": "code",
   "execution_count": 83,
   "metadata": {},
   "outputs": [],
   "source": [
    "def get_longest_substring(K:int,S:str) -> str:\n",
    "    # Case 1: Invalid K\n",
    "    if K < 1: raise ValueError(\"K must be larger than or equal to 1\")\n",
    "\n",
    "    # Case 2: S length is >= K, therefore S is the longest substring.\n",
    "    if len(S) <= K: return S \n",
    "\n",
    "    # Case 2: S has length <  K,   \n",
    "    results = []\n",
    "    for index,_ in enumerate(S):\n",
    "        kernel = 0 # A sliding window which will contain a substring\n",
    "        while num_distinct_chars(S[index:index+kernel]) <= K:\n",
    "            if kernel + 1 > len(S[index:]): break\n",
    "            kernel += 1 \n",
    "        else:\n",
    "            results.append(S[index:index+kernel-1])\n",
    "\n",
    "    #Sort found substrings by length, return largest\n",
    "    results.sort(key=lambda x:len(x))\n",
    "    return results[-1]"
   ]
  },
  {
   "attachments": {},
   "cell_type": "markdown",
   "metadata": {},
   "source": [
    "# Test Cases"
   ]
  },
  {
   "cell_type": "code",
   "execution_count": 100,
   "metadata": {},
   "outputs": [],
   "source": [
    "# Base case\n",
    "K = 2\n",
    "S = \"abcba\"\n",
    "S2= \"abcdddcba\""
   ]
  },
  {
   "cell_type": "code",
   "execution_count": 102,
   "metadata": {},
   "outputs": [],
   "source": [
    "# Edge case: K == len S\n",
    "assert get_longest_substring(1,'a') == 'a'\n",
    "\n",
    "# Edge case: K > len S\n",
    "assert get_longest_substring(4,'abc') == 'abc'\n",
    "\n",
    "# Edge case: K < len s\n",
    "assert get_longest_substring(2,S) == 'bcb'\n",
    "\n",
    "assert get_longest_substring(K,S) == 'bcb'\n",
    "assert get_longest_substring(3,S2) == 'bcdddcb'"
   ]
  },
  {
   "attachments": {},
   "cell_type": "markdown",
   "metadata": {},
   "source": [
    "# Retrospective"
   ]
  },
  {
   "attachments": {},
   "cell_type": "markdown",
   "metadata": {},
   "source": [
    "Quite a different problem, possibly the first problem that didn't feel like it needed some `involved` logic, but rather just a rather simple function. Quite easy, but enjoyable."
   ]
  }
 ],
 "metadata": {
  "kernelspec": {
   "display_name": "venv",
   "language": "python",
   "name": "python3"
  },
  "language_info": {
   "codemirror_mode": {
    "name": "ipython",
    "version": 3
   },
   "file_extension": ".py",
   "mimetype": "text/x-python",
   "name": "python",
   "nbconvert_exporter": "python",
   "pygments_lexer": "ipython3",
   "version": "3.11.0"
  },
  "orig_nbformat": 4
 },
 "nbformat": 4,
 "nbformat_minor": 2
}
