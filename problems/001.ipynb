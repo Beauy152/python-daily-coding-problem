{
 "cells": [
  {
   "attachments": {},
   "cell_type": "markdown",
   "metadata": {},
   "source": [
    "# Problem 1\n",
    "## Asked by Everyone\n",
    "### description\n",
    "\n",
    "FIZZBUZZ!\n",
    "\n",
    "Given an integer n, return a string array answer (1-indexed) where:\n",
    "\n",
    "- answer[i] == \"FizzBuzz\" if i is divisible by 3 and 5.\n",
    "- answer[i] == \"Fizz\" if i is divisible by 3.\n",
    "- answer[i] == \"Buzz\" if i is divisible by 5.\n",
    "- answer[i] == i (as a string) if none of the above conditions are true"
   ]
  },
  {
   "attachments": {},
   "cell_type": "markdown",
   "metadata": {},
   "source": [
    "# Implementation"
   ]
  },
  {
   "cell_type": "code",
   "execution_count": 32,
   "metadata": {},
   "outputs": [],
   "source": [
    "def fizzbuzz_print(n:int)-> None:\n",
    "    for i in range(1,n+ 1):\n",
    "        if (i % 3 == 0) and ((i % 5 == 0)):\n",
    "            print(\"fizzbuzz\")\n",
    "        elif i % 5 == 0:\n",
    "            print(\"buzz\")\n",
    "        elif i % 3 == 0:\n",
    "            print(\"fizz\")\n",
    "\n",
    "        else:\n",
    "            print(str(i))"
   ]
  },
  {
   "cell_type": "code",
   "execution_count": 33,
   "metadata": {},
   "outputs": [],
   "source": [
    "def fizzbuzz_return(n:int)-> str:\n",
    "    results = []\n",
    "    for i in range(1,n+ 1):\n",
    "        result = str(i)\n",
    "        if i % 5 == 0:\n",
    "            result = 'buzz' \n",
    "\n",
    "        if i % 3 == 0:\n",
    "            result = 'fizz' \n",
    "\n",
    "        if (i % 3 == 0) and ((i % 5 == 0)):\n",
    "            result = \"fizzbuzz\"\n",
    "\n",
    "        results.append(result)\n",
    "    \n",
    "    return results\n"
   ]
  },
  {
   "cell_type": "code",
   "execution_count": 34,
   "metadata": {},
   "outputs": [
    {
     "name": "stdout",
     "output_type": "stream",
     "text": [
      "1\n",
      "2\n",
      "fizz\n",
      "4\n",
      "buzz\n",
      "fizz\n",
      "7\n",
      "8\n",
      "fizz\n",
      "buzz\n",
      "11\n",
      "fizz\n",
      "13\n",
      "14\n",
      "fizzbuzz\n"
     ]
    }
   ],
   "source": [
    "fizzbuzz_print(15)"
   ]
  },
  {
   "attachments": {},
   "cell_type": "markdown",
   "metadata": {},
   "source": [
    "# Retrospective"
   ]
  },
  {
   "attachments": {},
   "cell_type": "markdown",
   "metadata": {},
   "source": []
  }
 ],
 "metadata": {
  "kernelspec": {
   "display_name": "venv",
   "language": "python",
   "name": "python3"
  },
  "language_info": {
   "codemirror_mode": {
    "name": "ipython",
    "version": 3
   },
   "file_extension": ".py",
   "mimetype": "text/x-python",
   "name": "python",
   "nbconvert_exporter": "python",
   "pygments_lexer": "ipython3",
   "version": "3.11.0"
  },
  "orig_nbformat": 4
 },
 "nbformat": 4,
 "nbformat_minor": 2
}
