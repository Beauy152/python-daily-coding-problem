{
 "cells": [
  {
   "attachments": {},
   "cell_type": "markdown",
   "metadata": {},
   "source": [
    "# Problem   18\n",
    "## Asked by Google\n",
    "### description\n",
    "\n",
    "Given an array of integers and some number `k`, where 1 <= k <= len(array), compute the maximum values of each subarray of length k.\n",
    "\n",
    "e.g.\n",
    "\n",
    "array = [10,5,2,7,8,7], k = 3\n",
    "answer= [10,7,8,8]\n",
    "\n",
    "10 -> max([10,5,2])\n",
    "7  -> max([5,2,7])\n",
    "8  -> max([2,7,8])\n",
    "8  -> max([7,8,7])\n",
    "\n",
    "Do this in O(n) time and O(k) space. You can modify the input array in-place and you do not need to store the results. You can simply print them out as you compute them."
   ]
  },
  {
   "attachments": {},
   "cell_type": "markdown",
   "metadata": {},
   "source": [
    "## Discussion\n",
    "\n",
    "Is this possible to complete in O(k) space? since K is representing the size of sub-arrays, not the number of them"
   ]
  },
  {
   "attachments": {},
   "cell_type": "markdown",
   "metadata": {},
   "source": [
    "# Implementation"
   ]
  },
  {
   "cell_type": "code",
   "execution_count": 22,
   "metadata": {},
   "outputs": [],
   "source": [
    "# This method completes this in O(k) space, & O(n*k) Time, due to the `max` method\n",
    "def get_max_sub_arrays(array:list[int],k:int) -> list[int]:\n",
    "    results = [0] * (k + 1) # Set array size -> O(k) spatial complexity\n",
    "\n",
    "    for i,value in enumerate(array):\n",
    "        # Exit Condition\n",
    "        if i + k >= len(array) + 1: break\n",
    "        results[i] = max(array[i:i+k])\n",
    "\n",
    "    return results\n"
   ]
  },
  {
   "cell_type": "code",
   "execution_count": 26,
   "metadata": {},
   "outputs": [],
   "source": [
    "# This method run in O(n) in most situations, but still O(n*k) in the worst case.\n",
    "def get_max_sub_arrays_o_n(array: list[int], k: int) -> list[int]:\n",
    "    n = len(array)\n",
    "    results = [0] * (n - k + 1)\n",
    "    max_val = max(array[:k])\n",
    "    results[0] = max_val\n",
    "\n",
    "    for i in range(1, n - k + 1):\n",
    "        if array[i - 1] == max_val:\n",
    "            max_val = max(array[i:i + k])\n",
    "        else:\n",
    "            max_val = max(max_val, array[i + k - 1])\n",
    "        results[i] = max_val\n",
    "\n",
    "    return results"
   ]
  },
  {
   "attachments": {},
   "cell_type": "markdown",
   "metadata": {},
   "source": [
    "# Test Cases"
   ]
  },
  {
   "cell_type": "code",
   "execution_count": 27,
   "metadata": {},
   "outputs": [],
   "source": [
    "assert get_max_sub_arrays([10,5,2,7,8,7],3) == [10,7,8,8]\n",
    "assert get_max_sub_arrays_o_n([10,5,2,7,8,7],3) == [10,7,8,8]"
   ]
  },
  {
   "attachments": {},
   "cell_type": "markdown",
   "metadata": {},
   "source": [
    "# Retrospective"
   ]
  },
  {
   "attachments": {},
   "cell_type": "markdown",
   "metadata": {},
   "source": [
    "This problem was quite challenging, and unintuitive. while i wasn't able to get a perfect O(n) worst-case performance with my solution, i feel i was able to optimise it quite well. I may have to come back to this problem at a later date to re-approach it. "
   ]
  }
 ],
 "metadata": {
  "kernelspec": {
   "display_name": "venv",
   "language": "python",
   "name": "python3"
  },
  "language_info": {
   "codemirror_mode": {
    "name": "ipython",
    "version": 3
   },
   "file_extension": ".py",
   "mimetype": "text/x-python",
   "name": "python",
   "nbconvert_exporter": "python",
   "pygments_lexer": "ipython3",
   "version": "3.11.0"
  },
  "orig_nbformat": 4
 },
 "nbformat": 4,
 "nbformat_minor": 2
}
