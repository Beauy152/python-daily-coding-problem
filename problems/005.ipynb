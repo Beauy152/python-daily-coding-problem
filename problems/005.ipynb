{
 "cells": [
  {
   "attachments": {},
   "cell_type": "markdown",
   "metadata": {},
   "source": [
    "# Problem 005\n",
    "## Asked by Jane Street"
   ]
  },
  {
   "attachments": {},
   "cell_type": "markdown",
   "metadata": {},
   "source": [
    "`cons(a,b)` constructs a pair, and `car(pair)` & `cdr(pair)` returns the first and last element of that pair.\n",
    "\n",
    "eg.\n",
    "car(cons(3,4)) returns 3, and cdr(cons(3,4)) returns 4"
   ]
  },
  {
   "cell_type": "code",
   "execution_count": 63,
   "metadata": {},
   "outputs": [],
   "source": [
    "def cons(a, b):\n",
    "    def pair(f):\n",
    "        return f(a, b)\n",
    "    return pair"
   ]
  },
  {
   "cell_type": "code",
   "execution_count": 64,
   "metadata": {},
   "outputs": [],
   "source": [
    "# This method is a closure, returning a function object\n",
    "def car(f):\n",
    "    def traverse_left(a,b):\n",
    "        if callable(a):\n",
    "            a = a(traverse_left)\n",
    "        return a\n",
    "    return f(traverse_left)\n",
    "    "
   ]
  },
  {
   "cell_type": "code",
   "execution_count": 65,
   "metadata": {},
   "outputs": [],
   "source": [
    "def cdr(f):\n",
    "    def traverse_right(a,b):\n",
    "        if callable(b):\n",
    "            b = b(traverse_right)\n",
    "        return b\n",
    "    return f(traverse_right)"
   ]
  },
  {
   "cell_type": "code",
   "execution_count": 66,
   "metadata": {},
   "outputs": [],
   "source": [
    "# This test harness was provided\n",
    "assert car(cons(3,4)) == 3\n",
    "assert cdr(cons(3,4)) == 4"
   ]
  },
  {
   "attachments": {},
   "cell_type": "markdown",
   "metadata": {},
   "source": [
    "### Retrospective\n",
    "\n",
    "This challenge was initially a little difficult to grasp, the distinct change in mindset was difficult to adopt initially, though once i grasped the concept from the provided `cons` method, it became quite easy to implement."
   ]
  }
 ],
 "metadata": {
  "kernelspec": {
   "display_name": "venv",
   "language": "python",
   "name": "python3"
  },
  "language_info": {
   "codemirror_mode": {
    "name": "ipython",
    "version": 3
   },
   "file_extension": ".py",
   "mimetype": "text/x-python",
   "name": "python",
   "nbconvert_exporter": "python",
   "pygments_lexer": "ipython3",
   "version": "3.11.0"
  },
  "orig_nbformat": 4
 },
 "nbformat": 4,
 "nbformat_minor": 2
}
