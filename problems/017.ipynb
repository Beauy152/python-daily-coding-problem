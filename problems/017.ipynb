{
 "cells": [
  {
   "attachments": {},
   "cell_type": "markdown",
   "metadata": {},
   "source": [
    "# Problem 17\n",
    "## Asked by Google\n",
    "### description\n",
    "\n",
    "Suppose we represent our file system by a string in the following manner:\n",
    "\n",
    "`\"dir\\n\\tsubdir1\\n\\tsubdir2\\n\\t\\tfile.ext\"`\n",
    "\n",
    "**representing:**\n",
    "\n",
    "```\n",
    "dir\n",
    "    subdir1\n",
    "    subdir2\n",
    "        file.ext\n",
    "```\n",
    "\n",
    "The directory dir contains an empty subdirectory `subdir1` and a subdirectory `subdir2` containing a file `file.ext`\n",
    "\n",
    "\n",
    "The string `\"dir\\n\\tsubdir1\\n\\t\\tfile1.ext\\n\\t\\tsubsubdir1\\n\\tsubdir2\\n\\t\\tsubsubdir2\\n\\t\\t\\tfile2.ext\"` \n",
    "\n",
    "**represents:**\n",
    "\n",
    "```\n",
    "dir\n",
    "    subdir1\n",
    "        file1.ext\n",
    "        subsubdir1\n",
    "    subdir2\n",
    "        subsubdir2\n",
    "            file2.ext\n",
    "```\n",
    "\n",
    "The directory dir contains two sub-directories subdir1 and subdir2. subdir1 contains a file file1.ext and an empty second-level sub-directory subsubdir1. subdir2 contains a second-level sub-directory subsubdir2 containing a file file2.ext.\n",
    "\n",
    "We are interested in finding the longest (number of characters) absolute path to a file within our file system. For example, in the second example above, the longest absolute path is \"dir/subdir2/subsubdir2/file2.ext\", and its length is 32 (not including the double quotes).\n",
    "\n",
    "Given a string representing the file system in the above format, return the length of the longest absolute path to a file in the abstracted file system. If there is no file in the system, return 0.\n",
    "\n",
    "**Note:**\n",
    "\n",
    "The name of a file contains at least a period and an extension.\n",
    "\n",
    "The name of a directory or sub-directory will not contain a period.\n"
   ]
  },
  {
   "attachments": {},
   "cell_type": "markdown",
   "metadata": {},
   "source": [
    "**TLDR:**\n",
    "\n",
    "given a directory string, find the longest (by number of characters) absolute path to a file within our file system.\n",
    "\n",
    "e.g. In example 2, the longest is:\n",
    "`\"dir/subdir2/subsubdir2/file2.ext\"`\n",
    "with a length of 32 chars (excludign double quotes)\n"
   ]
  },
  {
   "attachments": {},
   "cell_type": "markdown",
   "metadata": {},
   "source": [
    "## Discussion\n",
    "\n",
    "Based on the prompt, i'm assuming that when told to find the longest absolute path, that infact the question wan't me to find whichever file is the furthest (deepest) from the root.\n",
    "\n",
    "\\n -> new line?\n",
    "\\t -> tab? determines indent?"
   ]
  },
  {
   "attachments": {},
   "cell_type": "markdown",
   "metadata": {},
   "source": [
    "# Implementation"
   ]
  },
  {
   "cell_type": "code",
   "execution_count": 26,
   "metadata": {},
   "outputs": [],
   "source": [
    "def length_longest_path(path:str):\n",
    "    largest = 0\n",
    "    path_length = {0: 0}\n",
    "\n",
    "    for line in path.splitlines():\n",
    "        name = line.lstrip('\\t')\n",
    "        depth = len(line) - len(name)\n",
    "        if '.' in name:\n",
    "            if (candidate := path_length[depth] +len(name)) > largest:\n",
    "                largest = candidate\n",
    "        else:\n",
    "            path_length[depth + 1] = (candidate + 1)\n",
    "    \n",
    "    return largest\n"
   ]
  },
  {
   "attachments": {},
   "cell_type": "markdown",
   "metadata": {},
   "source": [
    "# Test Cases"
   ]
  },
  {
   "cell_type": "code",
   "execution_count": 30,
   "metadata": {},
   "outputs": [],
   "source": [
    "assert length_longest_path(\"dir\\n\\tsubdir1\\n\\tsubdir2\\n\\t\\tfile.ext\") == 20\n",
    "assert length_longest_path(\"dir\\n\\tsubdir1\\n\\t\\tfile1.ext\\n\\t\\tsubsubdir1\\n\\tsubdir2\\n\\t\\tsubsubdir2\\n\\t\\t\\tfile2.ext\") == 32"
   ]
  },
  {
   "attachments": {},
   "cell_type": "markdown",
   "metadata": {},
   "source": [
    "# Retrospective"
   ]
  },
  {
   "attachments": {},
   "cell_type": "markdown",
   "metadata": {},
   "source": [
    "I found this problem quite difficult actually, i had to look for help online. It turned out i was giving too much attention to the inclusion of the `\\t` characters in the strings; they weren't strictly necessary and led to me over-complicating the solution. Perhaps i'll come back to the solution to write an alternative time-permitting."
   ]
  },
  {
   "cell_type": "code",
   "execution_count": null,
   "metadata": {},
   "outputs": [],
   "source": [
    "#TODO: Alternative Solution"
   ]
  }
 ],
 "metadata": {
  "kernelspec": {
   "display_name": "venv",
   "language": "python",
   "name": "python3"
  },
  "language_info": {
   "codemirror_mode": {
    "name": "ipython",
    "version": 3
   },
   "file_extension": ".py",
   "mimetype": "text/x-python",
   "name": "python",
   "nbconvert_exporter": "python",
   "pygments_lexer": "ipython3",
   "version": "3.11.0"
  },
  "orig_nbformat": 4
 },
 "nbformat": 4,
 "nbformat_minor": 2
}
