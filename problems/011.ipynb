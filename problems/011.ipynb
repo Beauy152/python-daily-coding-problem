{
 "cells": [
  {
   "attachments": {},
   "cell_type": "markdown",
   "metadata": {},
   "source": [
    "# Problem 11\n",
    "## Asked by Twitter\n",
    "### description\n",
    "\n",
    "Implement an autocomplete system. Given a query string `s`, and set `a` of possible query strings, return all strings in set with prefix. \n",
    "\n",
    "e.g. given query \"de\" & set `s` = ['dog', 'deer', 'deal'] -> ['deer', 'deal']"
   ]
  },
  {
   "attachments": {},
   "cell_type": "markdown",
   "metadata": {},
   "source": [
    "# Implementation"
   ]
  },
  {
   "attachments": {},
   "cell_type": "markdown",
   "metadata": {},
   "source": [
    "Instead of searching a list & using python's built-in methods for string searching. i want to pre-process `s` into a tree (trie) structure for searching."
   ]
  },
  {
   "cell_type": "code",
   "execution_count": 70,
   "metadata": {},
   "outputs": [],
   "source": [
    "class Node:\n",
    "    def __init__(self,end_of_word = False) -> None:\n",
    "        self.children   : dict[str,Node] = {}\n",
    "        self.end_of_word: bool           = end_of_word    \n",
    "\n",
    "    def insert(self, s:str=''):\n",
    "        # Recursive Condition\n",
    "        if len(s) > 0:\n",
    "            k = s[0]\n",
    "\n",
    "            # len recieved str == 1, then set end of word flag.\n",
    "            end_of_word = False\n",
    "            if len(s) == 1:\n",
    "                end_of_word = True\n",
    "\n",
    "            #Check if node exists for key, if not create, then recurse.\n",
    "            if (node := self.children.get(k)) is None:\n",
    "                node = Node(end_of_word)\n",
    "                self.children[k] = node\n",
    "        \n",
    "            node.insert(s[1:])"
   ]
  },
  {
   "cell_type": "code",
   "execution_count": 71,
   "metadata": {},
   "outputs": [],
   "source": [
    "class Trie:\n",
    "    def __init__(self) -> None:\n",
    "        self.root       : Node = Node()\n",
    "\n",
    "    def insert(self, s:str):\n",
    "        \"\"\"Insert a given word into the trie\"\"\"\n",
    "        self.root.insert(s.lower())\n",
    "\n",
    "\n",
    "    def construct_words(self,prefix:str,node:Node):\n",
    "        \"\"\"Given a prefix, complete the word from all keys on node.\"\"\"\n",
    "        def helper(word:str,node:Node):\n",
    "            # Recursive Exit Condition\n",
    "            if node.end_of_word:\n",
    "                words.append(word)\n",
    "\n",
    "            # Recursive Condition\n",
    "            for key,node in node.children.items():\n",
    "                helper(word+key, node)\n",
    "\n",
    "\n",
    "        words = []\n",
    "        helper(prefix,node)\n",
    "        return words\n",
    "\n",
    "\n",
    "    def autocomplete(self, q:str) -> list[str]:\n",
    "        \"\"\"Given a query string, lookup & return solutions\"\"\"\n",
    "        # Traverse for last node of prefix\n",
    "        q = q.lower()\n",
    "\n",
    "        node = self.root\n",
    "        for k in q:\n",
    "            if node.children.get(k) is None:\n",
    "                return []\n",
    "            node = node.children[k]\n",
    "\n",
    "        # Return matched words\n",
    "        return self.construct_words(q,node)"
   ]
  },
  {
   "attachments": {},
   "cell_type": "markdown",
   "metadata": {},
   "source": [
    "# Test Cases"
   ]
  },
  {
   "cell_type": "code",
   "execution_count": 72,
   "metadata": {},
   "outputs": [],
   "source": [
    "t = Trie()\n",
    "query = 'de'\n",
    "dictionary = ['dog', 'deer', 'deal']\n",
    "\n",
    "for word in dictionary: t.insert(word) \n",
    "\n",
    "result = t.autocomplete(query)\n",
    "\n",
    "assert dictionary[0] not in result\n",
    "assert dictionary[1] in result\n",
    "assert dictionary[2] in result\n",
    "\n",
    "# Check boundaries, no match & exact match\n",
    "assert t.autocomplete('cat') == []\n",
    "assert t.autocomplete('deer') == ['deer']"
   ]
  },
  {
   "attachments": {},
   "cell_type": "markdown",
   "metadata": {},
   "source": [
    "# Retrospective"
   ]
  },
  {
   "attachments": {},
   "cell_type": "markdown",
   "metadata": {},
   "source": [
    "I thoroughly enjoyed this challenge, while reading it i immediately knew that i could implement this is as a m-ary tree; Though it was only after researching that it actually has a term for this exact purpose, a `Trie`. I thoroughly enjoyed this task, and find myself becoming far more comfortable with understanding & approaching these problems."
   ]
  }
 ],
 "metadata": {
  "kernelspec": {
   "display_name": "venv",
   "language": "python",
   "name": "python3"
  },
  "language_info": {
   "codemirror_mode": {
    "name": "ipython",
    "version": 3
   },
   "file_extension": ".py",
   "mimetype": "text/x-python",
   "name": "python",
   "nbconvert_exporter": "python",
   "pygments_lexer": "ipython3",
   "version": "3.11.0"
  },
  "orig_nbformat": 4
 },
 "nbformat": 4,
 "nbformat_minor": 2
}
