{
 "cells": [
  {
   "attachments": {},
   "cell_type": "markdown",
   "metadata": {},
   "source": [
    "# Problem 22\n",
    "## Asked by Microsoft\n",
    "### description\n",
    "\n",
    "Given a dictionary of words and a string made up of those words (no spaces), return the original sentence in a list. if there is more than one possible reconstruction, return any of them or null if none.\n",
    "\n",
    "e.g. given the set\n",
    "\n",
    "[quick, brown, the, fox] & the string 'thequickbrownfox' you should return [the, quick, brown, fox]"
   ]
  },
  {
   "attachments": {},
   "cell_type": "markdown",
   "metadata": {},
   "source": [
    "# Implementation"
   ]
  },
  {
   "cell_type": "code",
   "execution_count": 16,
   "metadata": {},
   "outputs": [],
   "source": [
    "def reconstruct_sentence( sentence:str, dictionary:dict[str] ) -> dict[str] | None:\n",
    "\n",
    "    split_sentence = []\n",
    "    while len(sentence) > 0:\n",
    "        for word in dictionary:\n",
    "            if sentence.startswith(word):\n",
    "                sentence = sentence.removeprefix(word)\n",
    "                split_sentence.append(word)\n",
    "\n",
    "\n",
    "    return split_sentence if len(split_sentence) > 0 else None"
   ]
  },
  {
   "attachments": {},
   "cell_type": "markdown",
   "metadata": {},
   "source": [
    "# Test Cases"
   ]
  },
  {
   "cell_type": "code",
   "execution_count": 17,
   "metadata": {},
   "outputs": [],
   "source": [
    "test_case_a = (\n",
    "    'thequickbrownfox',\n",
    "    ['quick', 'brown', 'the', 'fox',]\n",
    ")\n",
    "test_a_answer = ['the', 'quick', 'brown', 'fox']"
   ]
  },
  {
   "cell_type": "code",
   "execution_count": 18,
   "metadata": {},
   "outputs": [],
   "source": [
    "test_case_b = (\n",
    "    'bedbathandbeyond',\n",
    "    ['bed', 'bath', 'bedbath', 'and', 'beyond']\n",
    ")\n",
    "test_b_a_answer = ['bed', 'bath', 'and', 'beyond']\n",
    "test_b_b_answer = ['bedbath', 'and', 'beyond']"
   ]
  },
  {
   "cell_type": "code",
   "execution_count": 19,
   "metadata": {},
   "outputs": [
    {
     "data": {
      "text/plain": [
       "['the', 'quick', 'brown', 'fox']"
      ]
     },
     "execution_count": 19,
     "metadata": {},
     "output_type": "execute_result"
    }
   ],
   "source": [
    "reconstruct_sentence(*test_case_a)"
   ]
  },
  {
   "cell_type": "code",
   "execution_count": 22,
   "metadata": {},
   "outputs": [],
   "source": [
    "assert reconstruct_sentence(*test_case_a) == test_a_answer\n",
    "assert reconstruct_sentence(*test_case_b) == test_b_a_answer\n"
   ]
  },
  {
   "attachments": {},
   "cell_type": "markdown",
   "metadata": {},
   "source": [
    "# Retrospective"
   ]
  },
  {
   "attachments": {},
   "cell_type": "markdown",
   "metadata": {},
   "source": [
    "This problem was interesting - it could have warranted any number of alternative approaches to solve, with varying complexity. Though if there were additional time/space complexity restrictions, it would have become a very different problem to solve."
   ]
  }
 ],
 "metadata": {
  "kernelspec": {
   "display_name": "venv",
   "language": "python",
   "name": "python3"
  },
  "language_info": {
   "codemirror_mode": {
    "name": "ipython",
    "version": 3
   },
   "file_extension": ".py",
   "mimetype": "text/x-python",
   "name": "python",
   "nbconvert_exporter": "python",
   "pygments_lexer": "ipython3",
   "version": "3.11.0"
  },
  "orig_nbformat": 4
 },
 "nbformat": 4,
 "nbformat_minor": 2
}
