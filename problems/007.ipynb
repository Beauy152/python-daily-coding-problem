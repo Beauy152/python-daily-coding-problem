{
 "cells": [
  {
   "attachments": {},
   "cell_type": "markdown",
   "metadata": {},
   "source": [
    "# Problem 7\n",
    "## Asked by Facebook\n",
    "### description\n",
    "\n",
    "Given the mapping a = 1, b = 2, z = 26, and an encoded message, count the number of ways it can be decoded.\n",
    "For example, the message '111' would give 3, since it could be decoded as 'aaa','ka' & 'ak'. You can assume that the messages are decodable (i.e, 001 is not allowed)"
   ]
  },
  {
   "attachments": {},
   "cell_type": "markdown",
   "metadata": {},
   "source": [
    "### Test Cases\n",
    "**The follow test was provided**"
   ]
  },
  {
   "attachments": {},
   "cell_type": "markdown",
   "metadata": {},
   "source": [
    "'111' -> 3 ('aaa','ka','ak')"
   ]
  },
  {
   "attachments": {},
   "cell_type": "markdown",
   "metadata": {},
   "source": [
    "# Implementation"
   ]
  },
  {
   "cell_type": "code",
   "execution_count": 93,
   "metadata": {},
   "outputs": [],
   "source": [
    "def num_decoding_ways(string:str) -> int:\n",
    "    # Edge-case: empty string\n",
    "    if string == '': return 1\n",
    "\n",
    "    # initialise array of fixed length\n",
    "    # decodings = [0] * len(string) + 1\n",
    "    decodings = [0 for i in range(len(string) + 1)]\n",
    "\n",
    "    #a string of length 1 always has 1 decoding\n",
    "    decodings[0] = 1\n",
    "    decodings[1] = 1 #since 0 is never valid in index 0\n",
    "\n",
    "    #From index 2, iterate over remaining string.\n",
    "    for i in range(2,len(string) + 1):\n",
    "        # check a single-digit encoding can be created (non-0)\n",
    "        # If so,add the count of the previous index to the current index\n",
    "        if string[i - 1] != '0':\n",
    "            sum_count = decodings[i] + decodings[i - 1]\n",
    "            decodings[i] = sum_count\n",
    "\n",
    "        # Check double-digit encodings\n",
    "        # If valid double-digit decoding (<=26), then add previous count to current index\n",
    "        int_encoding = int(string[i-2:i])\n",
    "        if (int_encoding >= 10) and (int_encoding <= 26):\n",
    "            sum_count = decodings[i] + decodings[i - 2]\n",
    "            decodings[i] = sum_count\n",
    "    \n",
    "    return decodings[-1]\n",
    "\n"
   ]
  },
  {
   "cell_type": "code",
   "execution_count": 94,
   "metadata": {},
   "outputs": [],
   "source": [
    "# Test Harness\n",
    "def test_num_decoding_ways():\n",
    "    assert num_decoding_ways('111') == 3\n",
    "    assert num_decoding_ways('121') == 3\n",
    "    assert num_decoding_ways('1234') == 3\n",
    "    assert num_decoding_ways('2626') == 4\n",
    "    assert num_decoding_ways('11111') == 8\n",
    "    assert num_decoding_ways('226') == 3\n",
    "    assert num_decoding_ways('227') == 2\n",
    "    assert num_decoding_ways('1') == 1\n",
    "    assert num_decoding_ways('26') == 2\n",
    "    assert num_decoding_ways('27') == 1\n",
    "    assert num_decoding_ways('') == 1\n",
    "\n",
    "test_num_decoding_ways()\n"
   ]
  },
  {
   "cell_type": "code",
   "execution_count": 95,
   "metadata": {},
   "outputs": [
    {
     "name": "stdout",
     "output_type": "stream",
     "text": [
      "3\n"
     ]
    }
   ],
   "source": [
    "print(num_decoding_ways('111'))"
   ]
  },
  {
   "attachments": {},
   "cell_type": "markdown",
   "metadata": {},
   "source": [
    "# Retrospective"
   ]
  },
  {
   "attachments": {},
   "cell_type": "markdown",
   "metadata": {},
   "source": [
    "This challenge was quite challenging - I went through many rounds of revision, and changed my approach several times. While initially i seemed focused on a recursive implementation, that was proving difficult to sufficiently genericise. After exploring a few discussions about this problem from other developers, i reached the current implementation."
   ]
  }
 ],
 "metadata": {
  "kernelspec": {
   "display_name": "venv",
   "language": "python",
   "name": "python3"
  },
  "language_info": {
   "codemirror_mode": {
    "name": "ipython",
    "version": 3
   },
   "file_extension": ".py",
   "mimetype": "text/x-python",
   "name": "python",
   "nbconvert_exporter": "python",
   "pygments_lexer": "ipython3",
   "version": "3.11.0"
  },
  "orig_nbformat": 4
 },
 "nbformat": 4,
 "nbformat_minor": 2
}
