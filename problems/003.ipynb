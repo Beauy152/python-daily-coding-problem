{
 "cells": [
  {
   "attachments": {},
   "cell_type": "markdown",
   "metadata": {},
   "source": [
    "# Problem 003\n",
    "## Asked by Google\n",
    "\n",
    "Given the root to a binary tree, implement serialize(root), which serialises the tree into a string, and deserialise, which deserialises the string back into the tree."
   ]
  },
  {
   "cell_type": "code",
   "execution_count": 116,
   "metadata": {},
   "outputs": [],
   "source": [
    "class Node:\n",
    "    def __init__(self,val, left=None, right=None) -> None:\n",
    "        self.val = val\n",
    "        self.left = left\n",
    "        self.right = right"
   ]
  },
  {
   "attachments": {},
   "cell_type": "markdown",
   "metadata": {},
   "source": [
    "### Cases:\n",
    "if a value is a node-type -> serialsie\n",
    "if a value is None -> **stringify?**\n",
    "if a value is not none or node-type -> stringify"
   ]
  },
  {
   "cell_type": "code",
   "execution_count": 117,
   "metadata": {},
   "outputs": [],
   "source": [
    "def serialise(root:Node) -> str:\n",
    "    def helper(node):\n",
    "        if node:\n",
    "            vals.append(str(node.val))\n",
    "            helper(node.left)\n",
    "            helper(node.right)\n",
    "        else:\n",
    "            vals.append('None')\n",
    "\n",
    "    vals = []\n",
    "    helper(root)\n",
    "    return ' '.join(vals)"
   ]
  },
  {
   "cell_type": "code",
   "execution_count": 118,
   "metadata": {},
   "outputs": [],
   "source": [
    "def deserialise(data):\n",
    "    def helper():\n",
    "        val = next(vals)\n",
    "        if val == 'None':\n",
    "            return None\n",
    "        node = Node(val)\n",
    "        node.left = helper()\n",
    "        node.right = helper()\n",
    "        return node\n",
    "    vals = iter(data.split())\n",
    "    return helper()"
   ]
  },
  {
   "attachments": {},
   "cell_type": "markdown",
   "metadata": {},
   "source": [
    "**The follow test was provided**"
   ]
  },
  {
   "attachments": {},
   "cell_type": "markdown",
   "metadata": {},
   "source": [
    "**Example string for example**\n",
    "\n",
    "\"(root,(left,(left.left,None,None),None),(right,None,None)) \""
   ]
  },
  {
   "cell_type": "code",
   "execution_count": 120,
   "metadata": {},
   "outputs": [
    {
     "name": "stdout",
     "output_type": "stream",
     "text": [
      "root left left.left None None None right None None\n",
      "root left left.left None None None right None None\n"
     ]
    }
   ],
   "source": [
    "node = Node('root',Node('left',Node('left.left')),Node('right'))\n",
    "# node = Node('5', Node('9', Node('2', Node('8')), Node('4', None, Node('7'))), Node('1', None, Node('3')))\n",
    "\n",
    "\n",
    "sn = serialise(node)\n",
    "print(sn)\n",
    "\n",
    "dsn = deserialise(sn)\n",
    "print(serialise(dsn))\n",
    "\n",
    "assert deserialise(serialise(node)).left.left.val == 'left.left'"
   ]
  }
 ],
 "metadata": {
  "kernelspec": {
   "display_name": "venv",
   "language": "python",
   "name": "python3"
  },
  "language_info": {
   "codemirror_mode": {
    "name": "ipython",
    "version": 3
   },
   "file_extension": ".py",
   "mimetype": "text/x-python",
   "name": "python",
   "nbconvert_exporter": "python",
   "pygments_lexer": "ipython3",
   "version": "3.11.0"
  },
  "orig_nbformat": 4
 },
 "nbformat": 4,
 "nbformat_minor": 2
}
