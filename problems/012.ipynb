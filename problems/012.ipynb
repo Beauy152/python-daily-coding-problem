{
 "cells": [
  {
   "attachments": {},
   "cell_type": "markdown",
   "metadata": {},
   "source": [
    "# Problem 12\n",
    "## Asked by Amazon\n",
    "### description\n",
    "\n",
    "There is a staircase with `N` steps, and you may climb up either 1 or 2 steps at a time. Given `N`, write a function that returns the number of unique ways you can climb the staircase. The order of the steps matters.\n",
    "\n",
    "For Example, if `N` is 4, then there a 5 unique ways:\n",
    " * 1,1,1,1\n",
    " * 2,1,1\n",
    " * 1,2,1\n",
    " * 1,1,2\n",
    " * 2,2"
   ]
  },
  {
   "attachments": {},
   "cell_type": "markdown",
   "metadata": {},
   "source": [
    "# Implementation"
   ]
  },
  {
   "cell_type": "code",
   "execution_count": 31,
   "metadata": {},
   "outputs": [],
   "source": [
    "step_increments = (1,2)"
   ]
  },
  {
   "cell_type": "code",
   "execution_count": 32,
   "metadata": {},
   "outputs": [],
   "source": [
    "class Node:\n",
    "    def __init__(self,end_of_branch = False) -> None:\n",
    "        self.children   : dict[str,Node] = {}\n",
    "        self.end_of_branch: bool           = end_of_branch    \n",
    "\n",
    "    def insert(self,previous_sum:int):\n",
    "        for increment in step_increments:\n",
    "            new_sum = previous_sum + increment\n",
    "            # Case 3: greater than N -> don't add\n",
    "            if new_sum > N:\n",
    "                    break\n",
    "            \n",
    "            # Case 2: equal to N -> add, set end flag\n",
    "            end_branch = False\n",
    "            if new_sum == N:\n",
    "                    end_branch = True\n",
    "            \n",
    "            # Case 1: less than or equal N - add node\n",
    "            node = Node(end_branch)\n",
    "            self.children[increment] = node\n",
    "            node.insert(new_sum)\n"
   ]
  },
  {
   "cell_type": "code",
   "execution_count": 33,
   "metadata": {},
   "outputs": [],
   "source": [
    "class Tree:\n",
    "    def __init__(self) -> None:\n",
    "        self.root       : Node = Node()\n",
    "\n",
    "    def construct(self):\n",
    "        self.root.insert(0)\n",
    "\n",
    "    def traverse(self) -> list[str]:\n",
    "        combinations = []\n",
    "        def helper(node:Node,values:str=''):\n",
    "            if node.end_of_branch:\n",
    "                combinations.append(values)\n",
    "\n",
    "                \n",
    "            for key,child in node.children.items():\n",
    "                helper(\n",
    "                    child,\n",
    "                    values + str(key)\n",
    "                    )\n",
    "        helper(self.root)\n",
    "        return combinations"
   ]
  },
  {
   "cell_type": "code",
   "execution_count": 34,
   "metadata": {},
   "outputs": [
    {
     "name": "stdout",
     "output_type": "stream",
     "text": [
      "['1111', '112', '121', '211', '22']\n"
     ]
    }
   ],
   "source": [
    "N = 4\n",
    "t = Tree()\n",
    "t.construct()\n",
    "results = t.traverse()\n",
    "print(results)"
   ]
  },
  {
   "attachments": {},
   "cell_type": "markdown",
   "metadata": {},
   "source": [
    "# Test Cases"
   ]
  },
  {
   "cell_type": "code",
   "execution_count": 35,
   "metadata": {},
   "outputs": [],
   "source": [
    "assert N == 4\n",
    "assert len(results) == 5\n",
    "assert '1111' in results\n",
    "assert '112' in results\n",
    "assert '121' in results\n",
    "assert '211' in results\n",
    "assert '22' in results"
   ]
  },
  {
   "attachments": {},
   "cell_type": "markdown",
   "metadata": {},
   "source": [
    "# Retrospective"
   ]
  },
  {
   "attachments": {},
   "cell_type": "markdown",
   "metadata": {},
   "source": [
    "Initially reading this challenge i assumed it would be a standard combinatorial problem, and one which appeared to just want to brute-force a solution; and while thats not entirely untrue, it quickly registered to me that this feels very similar to a previous questions (#11), by adapting the Trie implementation i was able to quickly solve this problem. \n",
    "\n",
    "I thorougly enjoyed this process of experiementation though with other programmatic approaches."
   ]
  }
 ],
 "metadata": {
  "kernelspec": {
   "display_name": "venv",
   "language": "python",
   "name": "python3"
  },
  "language_info": {
   "codemirror_mode": {
    "name": "ipython",
    "version": 3
   },
   "file_extension": ".py",
   "mimetype": "text/x-python",
   "name": "python",
   "nbconvert_exporter": "python",
   "pygments_lexer": "ipython3",
   "version": "3.11.0"
  },
  "orig_nbformat": 4
 },
 "nbformat": 4,
 "nbformat_minor": 2
}
