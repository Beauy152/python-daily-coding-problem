{
 "cells": [
  {
   "attachments": {},
   "cell_type": "markdown",
   "metadata": {},
   "source": [
    "# Problem 16\n",
    "## Asked by Twitter\n",
    "### description\n",
    "\n",
    "You have an e-commerce site, and want to record the last N `order` ids in a log. Implement a data structure to accomplish this, with the following API:\n",
    "\n",
    "* record(order_id) : add order_id to log\n",
    "* get_last(i) gets the `i-th` last element from the log. `i` is guaranteed to be <= `N`\n",
    "\n",
    "Be as time & space efficient as possible."
   ]
  },
  {
   "attachments": {},
   "cell_type": "markdown",
   "metadata": {},
   "source": [
    "## Discussion\n",
    "\n",
    "i could implement this using built-in types, but i thought it would be more fun to implement a class from scratch."
   ]
  },
  {
   "attachments": {},
   "cell_type": "markdown",
   "metadata": {},
   "source": [
    "# Implementation"
   ]
  },
  {
   "cell_type": "code",
   "execution_count": 4,
   "metadata": {},
   "outputs": [],
   "source": [
    "def generate_ids(k:int=10) -> str:\n",
    "    \"\"\"Simple generator method to produce 'k' id strings.\"\"\"\n",
    "    for i in range(k):\n",
    "        yield f'id_{i}'"
   ]
  },
  {
   "cell_type": "code",
   "execution_count": 17,
   "metadata": {},
   "outputs": [],
   "source": [
    "class Node:\n",
    "    def __init__(self,data) -> None:\n",
    "        self.data = data\n",
    "        self.next = None\n",
    "\n",
    "    def __repr__(self) -> str:\n",
    "        return f'Node({self.data})'"
   ]
  },
  {
   "cell_type": "code",
   "execution_count": 33,
   "metadata": {},
   "outputs": [],
   "source": [
    "class CircularLinkedList:\n",
    "    def __init__(self,k=0) -> None:\n",
    "        self.size = 0\n",
    "        self.limit= k\n",
    "\n",
    "        # self.start = None\n",
    "        self.last   = None\n",
    "\n",
    "    def add_start(self,node:Node):\n",
    "        \"\"\"Add new item to first position in list.\"\"\"\n",
    "        \n",
    "        # Case 1: first item in list.\n",
    "        if self.last is None:\n",
    "            self.last = node\n",
    "            self.last.next = self.last\n",
    "        \n",
    "        # Case 2: any other index of item to be added.\n",
    "        # 2.1: set the new node's `next` as the previous first item (last.next)\n",
    "        # since the next node from the last, will always be the first node\n",
    "        node.next = self.last.next\n",
    "        # 2.2: set the last node to point at the new node.\n",
    "        self.last.next = node\n",
    "\n",
    "        self.size += 1\n",
    "\n",
    "    def pop(self) -> Node:\n",
    "        \"\"\"Remove the last item in the list\"\"\"\n",
    "        # Case 1: Empty List\n",
    "        if self.last is None:\n",
    "            raise IndexError(\"List is empty, cannot pop.\")\n",
    "    \n",
    "        # Case 2: 1 > Items\n",
    "\n",
    "        # 2.1: Get item before last (to join gap of removing item)\n",
    "        end = self.last\n",
    "        prev = self.last\n",
    "        while prev.next != end:\n",
    "            prev = prev.next\n",
    "\n",
    "        # join prev to last.next\n",
    "        prev.next = end.next\n",
    "        self.size -= 1\n",
    "        return end\n",
    "\n",
    "\n",
    "    def peek(self,i:int) -> Node:\n",
    "        \"\"\"View the value of a node at a given index\"\"\"\n",
    "        # Check out of bounds\n",
    "        if i >= self.size:\n",
    "            raise IndexError(\"Index out of range of linked list.\")\n",
    "        \n",
    "        current: Node = self.last.next\n",
    "        for i in range(i):\n",
    "            current = current.next\n",
    "\n",
    "        return current\n",
    "            \n",
    "            "
   ]
  },
  {
   "cell_type": "code",
   "execution_count": 54,
   "metadata": {},
   "outputs": [],
   "source": [
    "class Log:\n",
    "    def __init__(self,k:int) -> None:\n",
    "        \"\"\"given k, create a circular log, which keeps track of the last k-items.\"\"\"\n",
    "        self.queue = CircularLinkedList()\n",
    "        self.limit = k\n",
    "\n",
    "\n",
    "    def record(self,order_id:str) -> None:\n",
    "        self.queue.add_start(Node(order_id))\n",
    "\n",
    "        print(f'Added {order_id} to log.')\n",
    "\n",
    "        # To keep list size of k, if after add q.size > k, then pop.\n",
    "        if self.queue.size > self.limit:\n",
    "            self.queue.pop()\n",
    "\n",
    "    def get_last(self,i:int) -> Node:\n",
    "        \"\"\"Get last `i-th` item from the end\"\"\"\n",
    "        index = (self.queue.size - 1) - i \n",
    "        return self.queue.peek(index)\n",
    "    \n",
    "    def get_size(self) -> int:\n",
    "        return self.queue.size\n",
    "        \n"
   ]
  },
  {
   "attachments": {},
   "cell_type": "markdown",
   "metadata": {},
   "source": [
    "# Test Cases"
   ]
  },
  {
   "attachments": {},
   "cell_type": "markdown",
   "metadata": {},
   "source": [
    "Test the basic functions of the circular linked list."
   ]
  },
  {
   "cell_type": "code",
   "execution_count": 39,
   "metadata": {},
   "outputs": [],
   "source": [
    "ll = CircularLinkedList(3)\n",
    "one,two,three,four = Node(1),Node(2),Node(3),Node(4)\n",
    "\n",
    "ll.add_start(one)\n",
    "ll.add_start(two)\n",
    "ll.add_start(three)\n",
    "ll.add_start(four)\n",
    "# List order: 4 -> 3 -> 2 -> 1\n",
    "assert ll.peek(0) == four\n",
    "assert ll.peek(1) == three\n",
    "assert ll.peek(2) == two\n",
    "assert ll.peek(3) == one\n",
    "\n",
    "assert ll.pop() == one\n",
    "assert ll.size  == 3"
   ]
  },
  {
   "attachments": {},
   "cell_type": "markdown",
   "metadata": {},
   "source": [
    "test the extra functionality added to the linked list by the `log` structure."
   ]
  },
  {
   "cell_type": "code",
   "execution_count": 58,
   "metadata": {},
   "outputs": [
    {
     "name": "stdout",
     "output_type": "stream",
     "text": [
      "Added id_0 to log.\n",
      "Added id_1 to log.\n",
      "Added id_2 to log.\n",
      "Added id_3 to log.\n",
      "Added id_4 to log.\n",
      "Added new_id to log.\n"
     ]
    }
   ],
   "source": [
    "K = 5\n",
    "log = Log(K)\n",
    "for id in generate_ids(K):\n",
    "    log.record(id)\n",
    "\n",
    "assert log.get_size() == K\n",
    "\n",
    "# add extra item, should be resized automatically.\n",
    "log.record('new_id')\n",
    "\n",
    "assert log.get_size() == K\n",
    "assert log.get_last(K).data == 'new_id'\n",
    "assert log.get_last(0).data == 'id_1'\n"
   ]
  },
  {
   "attachments": {},
   "cell_type": "markdown",
   "metadata": {},
   "source": [
    "# Retrospective"
   ]
  },
  {
   "attachments": {},
   "cell_type": "markdown",
   "metadata": {},
   "source": [
    "This was a very fun problem, although i absolutely made it harder for myself than i needed, by not using built-in structures i thought it was quite fun. Over the course of these challenges, i've had to implement trees several times, and an XOR-linked list (which was very unintuitive), but rarely a queue-like structure.\n",
    "\n",
    "Although the performance for the given structures if O(1) for adding, it has O(n) for deletion in the worst case, which given the `pop` method is used to keep the size, this is frequent, so using a doubly-linked-circular-list (or python deque) could be more appropriate in trading off size to save lookup times.\n",
    "\n",
    "A future extension of this project could aim to implement using an `XOR linked-circular-list`, which would provide a reduction in space requried, while maintaining the efficient lookup?"
   ]
  }
 ],
 "metadata": {
  "kernelspec": {
   "display_name": "venv",
   "language": "python",
   "name": "python3"
  },
  "language_info": {
   "codemirror_mode": {
    "name": "ipython",
    "version": 3
   },
   "file_extension": ".py",
   "mimetype": "text/x-python",
   "name": "python",
   "nbconvert_exporter": "python",
   "pygments_lexer": "ipython3",
   "version": "3.11.0"
  },
  "orig_nbformat": 4
 },
 "nbformat": 4,
 "nbformat_minor": 2
}
