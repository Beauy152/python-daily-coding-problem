{
 "cells": [
  {
   "attachments": {},
   "cell_type": "markdown",
   "metadata": {},
   "source": [
    "# Problem #10\n",
    "## Asked by Apple\n",
    "### description\n",
    "\n",
    "Implement a job-scheduler which takes in a function `f` and an int `n` and calls f after n milliseconds"
   ]
  },
  {
   "attachments": {},
   "cell_type": "markdown",
   "metadata": {},
   "source": [
    "# Implementation"
   ]
  },
  {
   "attachments": {},
   "cell_type": "markdown",
   "metadata": {},
   "source": [
    "**Assumptions**\n",
    "\n",
    "for the purposes of this challenge i will assume the following conditions:\n",
    " * calls are one-off, not recurring\n",
    " * functions scheduled at the same time will be run sequentially, in the order first recieved by the scheduler (no parallelism)\n",
    " * No use of language specific modules which already implement this functionality -\n",
    "    * can't use sched module\n",
    "    * can't use threading.timer"
   ]
  },
  {
   "attachments": {},
   "cell_type": "markdown",
   "metadata": {},
   "source": [
    "**Checking Approaches**\n",
    "count_down - every several ms "
   ]
  },
  {
   "cell_type": "code",
   "execution_count": 217,
   "metadata": {},
   "outputs": [],
   "source": [
    "from time import time_ns\n",
    "def time_ms():\n",
    "    \"\"\"Gets time as nano secs, then convert to ms\"\"\"\n",
    "    return time_ns() // 1_000_000"
   ]
  },
  {
   "cell_type": "code",
   "execution_count": 218,
   "metadata": {},
   "outputs": [],
   "source": [
    "from time import time,time_ns,sleep\n",
    "from queue import PriorityQueue\n",
    "\n",
    "class Scheduler:\n",
    "    def __init__(self) -> None:\n",
    "        self.scheduled_funcs = PriorityQueue()\n",
    "\n",
    "    def run(self):\n",
    "        # Limitation : if a new item is scheduled to occur before the item currently held, it will still execute after the held item.\n",
    "        if not self.scheduled_funcs.empty():\n",
    "            item = self.scheduled_funcs.get()\n",
    "            wait_duration = (item[0] - time_ms()) / 1000 # scheduled time\n",
    "            sleep(wait_duration)\n",
    "            item[1]()\n",
    "\n",
    "    def schedule(self,n_ms:int,f:callable,*args):\n",
    "        \"\"\"Schedule f to be called after n miliseconds\"\"\"\n",
    "        def bundle_func():\n",
    "            \"\"\"Closure: return callable with args\"\"\"\n",
    "            return f(*args)\n",
    "\n",
    "        scheduled_time = time_ms() + n_ms\n",
    "        self.scheduled_funcs.put(\n",
    "            # Priority, data\n",
    "            (scheduled_time,bundle_func)\n",
    "        )\n"
   ]
  },
  {
   "cell_type": "code",
   "execution_count": 219,
   "metadata": {},
   "outputs": [],
   "source": [
    "def hello(s:str):\n",
    "    print(f'Hello {s}')"
   ]
  },
  {
   "cell_type": "code",
   "execution_count": 220,
   "metadata": {},
   "outputs": [],
   "source": [
    "from time import time\n",
    "def measured_hello(s:str):\n",
    "    global calls\n",
    "    print(f'Hello {s}')\n",
    "    calls.append(\n",
    "        (time_ms(),s)\n",
    "        )\n",
    "    "
   ]
  },
  {
   "cell_type": "code",
   "execution_count": 224,
   "metadata": {},
   "outputs": [
    {
     "name": "stdout",
     "output_type": "stream",
     "text": [
      "Hello Mike\n",
      "Hello World\n",
      "Hello There\n"
     ]
    }
   ],
   "source": [
    "\n",
    "calls = []\n",
    "s = Scheduler()\n",
    "s.schedule(100,\n",
    "        #    hello,\n",
    "        measured_hello,\n",
    "           'World'\n",
    "           )\n",
    "s.schedule(150,\n",
    "        #    hello,\n",
    "        measured_hello,\n",
    "           'There'\n",
    "           )\n",
    "s.schedule(10,\n",
    "        #    hello,\n",
    "        measured_hello,\n",
    "           'Mike'\n",
    "           )\n",
    "\n",
    "start_time = time_ms()\n",
    "# Correct Order:  Mike -> World -> There\n",
    "while True:\n",
    "    s.run()\n",
    "    if s.scheduled_funcs.empty():\n",
    "        break\n",
    "\n",
    "\n"
   ]
  },
  {
   "cell_type": "code",
   "execution_count": 225,
   "metadata": {},
   "outputs": [
    {
     "name": "stdout",
     "output_type": "stream",
     "text": [
      "called Mike after 13 ms\n",
      "called World after 104 ms\n",
      "called There after 155 ms\n"
     ]
    }
   ],
   "source": [
    "for called_time,call_str in calls:\n",
    "    difference = called_time - start_time\n",
    "    print(f'called {call_str} after {difference} ms')"
   ]
  },
  {
   "attachments": {},
   "cell_type": "markdown",
   "metadata": {},
   "source": [
    "Extension - Make it run on separate thread"
   ]
  },
  {
   "attachments": {},
   "cell_type": "markdown",
   "metadata": {},
   "source": [
    "# Retrospective"
   ]
  },
  {
   "attachments": {},
   "cell_type": "markdown",
   "metadata": {},
   "source": [
    "This was a very enjoyable task, it was overly complex, but still represent what felt like a real-world application. It was a source of constant desire for refinement, a balance between \"how good can i make this\", and how good am i required to make this to meet the requirements. This challenge was also fairly vague on some requirements, so i made sure to note assumptions i made & narrow down the scope of this challenge."
   ]
  }
 ],
 "metadata": {
  "kernelspec": {
   "display_name": "venv",
   "language": "python",
   "name": "python3"
  },
  "language_info": {
   "codemirror_mode": {
    "name": "ipython",
    "version": 3
   },
   "file_extension": ".py",
   "mimetype": "text/x-python",
   "name": "python",
   "nbconvert_exporter": "python",
   "pygments_lexer": "ipython3",
   "version": "3.11.0"
  },
  "orig_nbformat": 4
 },
 "nbformat": 4,
 "nbformat_minor": 2
}
