{
 "cells": [
  {
   "attachments": {},
   "cell_type": "markdown",
   "metadata": {},
   "source": [
    "# Problem #10\n",
    "## Asked by Apple\n",
    "### description\n",
    "\n",
    "Implement a job-scheduler which takes in a function `f` and an int `n` and calls f after n milliseconds"
   ]
  },
  {
   "attachments": {},
   "cell_type": "markdown",
   "metadata": {},
   "source": [
    "# Implementation"
   ]
  },
  {
   "attachments": {},
   "cell_type": "markdown",
   "metadata": {},
   "source": [
    "**Assumptions**\n",
    "\n",
    "for the purposes of this challenge i will assume the following conditions:\n",
    " * calls are one-off, not recurring\n",
    " * functions scheduled at the same time will be run sequentially, in the order first recieved by the scheduler (no parallelism)\n",
    " * No use of language specific modules which already implement this functionality -\n",
    "    * can't use sched module\n",
    "    * can't use threading.timer"
   ]
  },
  {
   "attachments": {},
   "cell_type": "markdown",
   "metadata": {},
   "source": [
    "**Checking Approaches**\n",
    "count_down - every several ms "
   ]
  },
  {
   "cell_type": "code",
   "execution_count": 204,
   "metadata": {},
   "outputs": [],
   "source": [
    "from time import time_ns\n",
    "def time_ms():\n",
    "    \"\"\"Gets time as nano secs, then convert to ms\"\"\"\n",
    "    return time_ns() // 1_000_000"
   ]
  },
  {
   "cell_type": "code",
   "execution_count": 205,
   "metadata": {},
   "outputs": [],
   "source": [
    "from time import time,time_ns,sleep\n",
    "from queue import PriorityQueue\n",
    "\n",
    "class Scheduler:\n",
    "    def __init__(self) -> None:\n",
    "        # When scheduling a call, set it up to be a call as current-time (in milliseconds) + n-miliseconds, then check periodically. use a queue & append schedueled jobs so that \n",
    "        self.scheduled_funcs = PriorityQueue()\n",
    "\n",
    "    def run(self):\n",
    "        # Limitation : if a new item is scheduled to occur before the item currently held, it will still execute after the held item.\n",
    "        if not self.scheduled_funcs.empty():\n",
    "            item = self.scheduled_funcs.get()\n",
    "            wait_duration = (item[0] - time_ms()) / 1000 # scheduled time\n",
    "            sleep(wait_duration)\n",
    "            item[1]()\n",
    "\n",
    "    def schedule(self,n_ms:int,f:callable,*args):\n",
    "        \"\"\"Schedule f to be called after n miliseconds\"\"\"\n",
    "        def bundle_func():\n",
    "            \"\"\"Closure: return callable with args\"\"\"\n",
    "            return f(*args)\n",
    "\n",
    "        scheduled_time = time_ms() + n_ms\n",
    "        self.scheduled_funcs.put(\n",
    "            # Priority, data\n",
    "            (scheduled_time,bundle_func)\n",
    "        )\n"
   ]
  },
  {
   "cell_type": "code",
   "execution_count": 206,
   "metadata": {},
   "outputs": [],
   "source": [
    "def hello(s:str):\n",
    "    print(f'Hello {s}')"
   ]
  },
  {
   "cell_type": "code",
   "execution_count": 207,
   "metadata": {},
   "outputs": [],
   "source": [
    "from time import time\n",
    "def measured_hello(s:str):\n",
    "    global calls\n",
    "    print(f'Hello {s}')\n",
    "    calls.append(\n",
    "        (time_ms(),s)\n",
    "        )\n",
    "    "
   ]
  },
  {
   "cell_type": "code",
   "execution_count": 214,
   "metadata": {},
   "outputs": [
    {
     "name": "stdout",
     "output_type": "stream",
     "text": [
      "Hello Mike\n",
      "Hello World\n",
      "Hello There\n"
     ]
    },
    {
     "ename": "KeyboardInterrupt",
     "evalue": "",
     "output_type": "error",
     "traceback": [
      "\u001b[0;31m---------------------------------------------------------------------------\u001b[0m",
      "\u001b[0;31mKeyboardInterrupt\u001b[0m                         Traceback (most recent call last)",
      "Cell \u001b[0;32mIn[214], line 22\u001b[0m\n\u001b[1;32m     20\u001b[0m \u001b[39m# Correct Order:  Mike -> World -> There\u001b[39;00m\n\u001b[1;32m     21\u001b[0m \u001b[39mwhile\u001b[39;00m \u001b[39mTrue\u001b[39;00m:\n\u001b[0;32m---> 22\u001b[0m     s\u001b[39m.\u001b[39;49mrun()\n\u001b[1;32m     23\u001b[0m \u001b[39m#     if s.scheduled_funcs.empty():\u001b[39;00m\n\u001b[1;32m     24\u001b[0m \u001b[39m#         break\u001b[39;00m\n",
      "Cell \u001b[0;32mIn[205], line 11\u001b[0m, in \u001b[0;36mScheduler.run\u001b[0;34m(self)\u001b[0m\n\u001b[1;32m      9\u001b[0m \u001b[39mdef\u001b[39;00m \u001b[39mrun\u001b[39m(\u001b[39mself\u001b[39m):\n\u001b[1;32m     10\u001b[0m     \u001b[39m# Limitation : if a new item is scheduled to occur before the item currently held, it will still execute after the held item.\u001b[39;00m\n\u001b[0;32m---> 11\u001b[0m     \u001b[39mif\u001b[39;00m \u001b[39mnot\u001b[39;00m \u001b[39mself\u001b[39;49m\u001b[39m.\u001b[39;49mscheduled_funcs\u001b[39m.\u001b[39;49mempty():\n\u001b[1;32m     12\u001b[0m         item \u001b[39m=\u001b[39m \u001b[39mself\u001b[39m\u001b[39m.\u001b[39mscheduled_funcs\u001b[39m.\u001b[39mget()\n\u001b[1;32m     13\u001b[0m         wait_duration \u001b[39m=\u001b[39m (item[\u001b[39m0\u001b[39m] \u001b[39m-\u001b[39m time_ms()) \u001b[39m/\u001b[39m \u001b[39m1000\u001b[39m \u001b[39m# scheduled time\u001b[39;00m\n",
      "File \u001b[0;32m~/.pyenv/versions/3.11.0/lib/python3.11/queue.py:108\u001b[0m, in \u001b[0;36mQueue.empty\u001b[0;34m(self)\u001b[0m\n\u001b[1;32m     97\u001b[0m \u001b[39mdef\u001b[39;00m \u001b[39mempty\u001b[39m(\u001b[39mself\u001b[39m):\n\u001b[1;32m     98\u001b[0m \u001b[39m    \u001b[39m\u001b[39m'''Return True if the queue is empty, False otherwise (not reliable!).\u001b[39;00m\n\u001b[1;32m     99\u001b[0m \n\u001b[1;32m    100\u001b[0m \u001b[39m    This method is likely to be removed at some point.  Use qsize() == 0\u001b[39;00m\n\u001b[0;32m   (...)\u001b[0m\n\u001b[1;32m    106\u001b[0m \u001b[39m    completed, the preferred technique is to use the join() method.\u001b[39;00m\n\u001b[1;32m    107\u001b[0m \u001b[39m    '''\u001b[39;00m\n\u001b[0;32m--> 108\u001b[0m     \u001b[39mwith\u001b[39;49;00m \u001b[39mself\u001b[39;49m\u001b[39m.\u001b[39;49mmutex:\n\u001b[1;32m    109\u001b[0m         \u001b[39mreturn\u001b[39;49;00m \u001b[39mnot\u001b[39;49;00m \u001b[39mself\u001b[39;49m\u001b[39m.\u001b[39;49m_qsize()\n",
      "\u001b[0;31mKeyboardInterrupt\u001b[0m: "
     ]
    }
   ],
   "source": [
    "\n",
    "calls = []\n",
    "s = Scheduler()\n",
    "s.schedule(100,\n",
    "        #    hello,\n",
    "        measured_hello,\n",
    "           'World'\n",
    "           )\n",
    "s.schedule(150,\n",
    "        #    hello,\n",
    "        measured_hello,\n",
    "           'There'\n",
    "           )\n",
    "s.schedule(10,\n",
    "        #    hello,\n",
    "        measured_hello,\n",
    "           'Mike'\n",
    "           )\n",
    "\n",
    "start_time = time_ms()\n",
    "# Correct Order:  Mike -> World -> There\n",
    "while True:\n",
    "    s.run()\n",
    "#     if s.scheduled_funcs.empty():\n",
    "#         break\n",
    "\n",
    "\n"
   ]
  },
  {
   "cell_type": "code",
   "execution_count": 216,
   "metadata": {},
   "outputs": [
    {
     "name": "stdout",
     "output_type": "stream",
     "text": [
      "called Mike after 13.4580078125 ms\n",
      "called World after 105.0361328125 ms\n",
      "called There after 150.573974609375 ms\n"
     ]
    }
   ],
   "source": [
    "for called_time,call_str in calls:\n",
    "    difference = called_time - start_time\n",
    "    print(f'called {call_str} after {difference} ms')"
   ]
  },
  {
   "cell_type": "code",
   "execution_count": null,
   "metadata": {},
   "outputs": [],
   "source": [
    "# Calculate ms offset from start time"
   ]
  },
  {
   "attachments": {},
   "cell_type": "markdown",
   "metadata": {},
   "source": [
    "Extension - Make it run on separate thread"
   ]
  },
  {
   "attachments": {},
   "cell_type": "markdown",
   "metadata": {},
   "source": [
    "# Test Cases"
   ]
  },
  {
   "cell_type": "code",
   "execution_count": null,
   "metadata": {},
   "outputs": [],
   "source": [
    "#Test by checking the time each method was called,and the time it was supposed to be called"
   ]
  },
  {
   "attachments": {},
   "cell_type": "markdown",
   "metadata": {},
   "source": [
    "# Retrospective"
   ]
  },
  {
   "attachments": {},
   "cell_type": "markdown",
   "metadata": {},
   "source": []
  }
 ],
 "metadata": {
  "kernelspec": {
   "display_name": "venv",
   "language": "python",
   "name": "python3"
  },
  "language_info": {
   "codemirror_mode": {
    "name": "ipython",
    "version": 3
   },
   "file_extension": ".py",
   "mimetype": "text/x-python",
   "name": "python",
   "nbconvert_exporter": "python",
   "pygments_lexer": "ipython3",
   "version": "3.11.0"
  },
  "orig_nbformat": 4
 },
 "nbformat": 4,
 "nbformat_minor": 2
}
