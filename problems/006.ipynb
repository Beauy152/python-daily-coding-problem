{
 "cells": [
  {
   "attachments": {},
   "cell_type": "markdown",
   "metadata": {},
   "source": [
    "# Problem 6\n",
    "## Asked by Google\n",
    "### description\n",
    "\n",
    "An `XOR` linked list is more memory efficient than doubly linked lists. Instead of each node holding `next` & `prev`, it holds a single field `both`, which is an XOR of the next node and the previous node. Implement an `XOR` linked list;\n",
    "\n",
    "It has an `add(element)` which adds the element to the end, and a `get(index)` which returns the node at the index.\n",
    "\n",
    "**If using pointer-less language (python) assume you have access to `get_pointer` & `dereference_pointer` functions that converts nodes and memory addresses**"
   ]
  },
  {
   "attachments": {},
   "cell_type": "markdown",
   "metadata": {},
   "source": [
    "# Implementation "
   ]
  },
  {
   "cell_type": "code",
   "execution_count": 29,
   "metadata": {},
   "outputs": [],
   "source": [
    "import ctypes\n",
    "def _get_obj(id):\n",
    "    \"\"\"Fetch an object from an `id` \"\"\"\n",
    "    return ctypes.cast(id,ctypes.py_object).value"
   ]
  },
  {
   "cell_type": "code",
   "execution_count": 30,
   "metadata": {},
   "outputs": [],
   "source": [
    "class Node:\n",
    "    def __init__(self,data:str|int):\n",
    "        self.data = data\n",
    "        self.both = 0#None\n",
    "    \n",
    "    def __repr__(self) -> str:\n",
    "        return f\"Node( id:{id(self)}, value:{self.data} )\""
   ]
  },
  {
   "cell_type": "code",
   "execution_count": 31,
   "metadata": {},
   "outputs": [],
   "source": [
    "class XORLinkedList:\n",
    "    def __init__(self) -> None:\n",
    "        self.head = None\n",
    "        self.tail = None\n",
    "        \n",
    "        self.nodes : list[Node] = []\n",
    "\n",
    "    def add(self, value:str|int):\n",
    "        # create node with value\n",
    "        node = Node(value)\n",
    "\n",
    "        # Case: Empty List  - set node as head & tail\n",
    "        if self.head is None:\n",
    "            self.head = node\n",
    "            self.tail = node\n",
    "        else:\n",
    "        # Case: List not Empty - set new `both` on current tail & add new node as tail\n",
    "            # calculate `both` field\n",
    "            self.tail.both = id(node) ^ self.tail.both\n",
    "            node.both = id(self.tail)\n",
    "            # append item to end (tail)\n",
    "            self.tail = node\n",
    "        \n",
    "        # avoid garbage colleciton\n",
    "        self.nodes.append(node)\n",
    "\n",
    "\n",
    "    def get(self, index:int) -> Node:\n",
    "        previous_id = 0\n",
    "        current_node = self.head\n",
    "\n",
    "        if index > len(self.nodes) -1:\n",
    "            raise IndexError(\"Index Out of Range.\")\n",
    "\n",
    "        for i in range(index):\n",
    "            next_id = previous_id ^ current_node.both\n",
    "\n",
    "            if next_id:\n",
    "                previous_id = id(current_node)\n",
    "                current_node = _get_obj(next_id)\n",
    "        \n",
    "        return current_node\n",
    "\n",
    "\n",
    "    def __repr__(self) -> str:\n",
    "        return f\"XORLinkedList( length:{len(self.nodes)}, head:{self.head}, tail:{self.tail} )\""
   ]
  },
  {
   "cell_type": "code",
   "execution_count": 32,
   "metadata": {},
   "outputs": [
    {
     "name": "stdout",
     "output_type": "stream",
     "text": [
      "XORLinkedList( length:4, head:Node( id:4367093392, value:one ), tail:Node( id:4367091152, value:four ) )\n"
     ]
    }
   ],
   "source": [
    "ll = XORLinkedList()\n",
    "\n",
    "ll.add(\"one\")\n",
    "ll.add(\"two\")\n",
    "ll.add(\"three\")\n",
    "ll.add(\"four\")\n",
    "\n",
    "print(ll)\n",
    "\n",
    "assert (ll.get(0)).data == 'one'\n",
    "assert (ll.get(3)).data == 'four'"
   ]
  },
  {
   "attachments": {},
   "cell_type": "markdown",
   "metadata": {},
   "source": [
    "# Retrospective"
   ]
  },
  {
   "attachments": {},
   "cell_type": "markdown",
   "metadata": {},
   "source": [
    "This problem was quite different - i had never encountered xor-linked-lists before. while it took a while to understand the logic behind them, it did eventually click. \n",
    "\n",
    "Although it's clear why these structures are not more common, they seem to introduce a lot of additional complexity for little benefit. Though that opinion likely comes more from this being a python implementation where this sort of thing is out of the ordinary; For a C-based implementation it's likely more straight-forward."
   ]
  }
 ],
 "metadata": {
  "kernelspec": {
   "display_name": "venv",
   "language": "python",
   "name": "python3"
  },
  "language_info": {
   "codemirror_mode": {
    "name": "ipython",
    "version": 3
   },
   "file_extension": ".py",
   "mimetype": "text/x-python",
   "name": "python",
   "nbconvert_exporter": "python",
   "pygments_lexer": "ipython3",
   "version": "3.11.0"
  },
  "orig_nbformat": 4
 },
 "nbformat": 4,
 "nbformat_minor": 2
}
