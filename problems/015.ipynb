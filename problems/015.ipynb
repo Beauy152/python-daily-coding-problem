{
 "cells": [
  {
   "attachments": {},
   "cell_type": "markdown",
   "metadata": {},
   "source": [
    "# Problem 15\n",
    "## Asked by Facebook\n",
    "### description\n",
    "\n",
    "Given a stream of elements too large to store in memory, pick a random element of the stream with uniform probability."
   ]
  },
  {
   "attachments": {},
   "cell_type": "markdown",
   "metadata": {},
   "source": [
    "## Assumptions\n",
    "\n",
    "* I'm assuming that iterating over an object destroys it.\n",
    "* Since we cannot store the stream in memory, we cannot know the length\n",
    "* We can assume a stream is not infinite, but still not know the length."
   ]
  },
  {
   "attachments": {},
   "cell_type": "markdown",
   "metadata": {},
   "source": [
    "# Implementation"
   ]
  },
  {
   "attachments": {},
   "cell_type": "markdown",
   "metadata": {},
   "source": [
    "We will use a generator to stand in-place of the stream"
   ]
  },
  {
   "cell_type": "code",
   "execution_count": 43,
   "metadata": {},
   "outputs": [],
   "source": [
    "def get_stream(limit=1000):\n",
    "    \"\"\"Generator method to return an infinite stream of numbers\"\"\"\n",
    "    n = 0\n",
    "    while n < limit:\n",
    "        yield n\n",
    "        n += 1"
   ]
  },
  {
   "attachments": {},
   "cell_type": "markdown",
   "metadata": {},
   "source": [
    "We can iterate over each item, and effectively create a sliding window of probability."
   ]
  },
  {
   "cell_type": "code",
   "execution_count": 50,
   "metadata": {},
   "outputs": [
    {
     "name": "stdout",
     "output_type": "stream",
     "text": [
      "36\n"
     ]
    }
   ],
   "source": [
    "from random import uniform\n",
    "\n",
    "length = 1\n",
    "current_item = None\n",
    "\n",
    "for i in get_stream():\n",
    "    if uniform(0,1) <= 1/length:\n",
    "        current_item = i\n",
    "    length += 1\n",
    "\n",
    "print(current_item)"
   ]
  },
  {
   "attachments": {},
   "cell_type": "markdown",
   "metadata": {},
   "source": [
    "# Retrospective"
   ]
  },
  {
   "attachments": {},
   "cell_type": "markdown",
   "metadata": {},
   "source": [
    "This challenge was difficult in that is was hard to test a correct solution. Though it did raise an interesting point about randomness, and how to produce uniform probability.\n",
    "\n",
    "I quite enjoyed this problem."
   ]
  },
  {
   "attachments": {},
   "cell_type": "markdown",
   "metadata": {},
   "source": [
    "## Previous Attempt\n",
    "\n",
    "Below is my inital attempt, after completeing my solution i checked to ensure my logic was sound, though it seems a had the wrong approach and misinterpreted the problem. \n",
    "\n",
    "initially i was trying to select any items with equal fairness, not a single item with equal probability."
   ]
  },
  {
   "cell_type": "code",
   "execution_count": null,
   "metadata": {},
   "outputs": [],
   "source": [
    "def get_stream():\n",
    "    \"\"\"Generator method to return an infinite stream of numbers\"\"\"\n",
    "    n = 0\n",
    "    while True:\n",
    "        yield n\n",
    "        n += 1\n",
    "\n",
    "from random import random\n",
    "\n",
    "# will determine how frequently an item is `picked`\n",
    "# 0.5 should mean technically each item has 50/50 chance of being `picked`\n",
    "THRESHOLD = 0.95\n",
    "LIMIT     = 10_000\n",
    "\n",
    "for i in get_stream():\n",
    "    if round(random(),3) == 0.500:\n",
    "        print(f'picked {i}')\n",
    "\n",
    "    if i > LIMIT: break"
   ]
  }
 ],
 "metadata": {
  "kernelspec": {
   "display_name": "venv",
   "language": "python",
   "name": "python3"
  },
  "language_info": {
   "codemirror_mode": {
    "name": "ipython",
    "version": 3
   },
   "file_extension": ".py",
   "mimetype": "text/x-python",
   "name": "python",
   "nbconvert_exporter": "python",
   "pygments_lexer": "ipython3",
   "version": "3.11.0"
  },
  "orig_nbformat": 4
 },
 "nbformat": 4,
 "nbformat_minor": 2
}
