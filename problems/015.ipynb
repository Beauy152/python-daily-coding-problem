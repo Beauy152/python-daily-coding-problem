{
 "cells": [
  {
   "attachments": {},
   "cell_type": "markdown",
   "metadata": {},
   "source": [
    "# Problem 15\n",
    "## Asked by Facebook\n",
    "### description\n",
    "\n",
    "Given a stream of elements too large to store in memory, pick a random element of the stream with uniform probability."
   ]
  },
  {
   "attachments": {},
   "cell_type": "markdown",
   "metadata": {},
   "source": [
    "## Assumptions\n",
    "\n",
    "* I'm assuming that iterating over an object destroys it.\n",
    "* Since we cannot store the stream in memory, we cannot know the length"
   ]
  },
  {
   "attachments": {},
   "cell_type": "markdown",
   "metadata": {},
   "source": [
    "# Implementation"
   ]
  },
  {
   "attachments": {},
   "cell_type": "markdown",
   "metadata": {},
   "source": [
    "We will use a generator to stand in-place of the stream"
   ]
  },
  {
   "cell_type": "code",
   "execution_count": 1,
   "metadata": {},
   "outputs": [],
   "source": [
    "def get_stream():\n",
    "    \"\"\"Generator method to return an infinite stream of numbers\"\"\"\n",
    "    n = 0\n",
    "    while True:\n",
    "        yield n\n",
    "        n += 1"
   ]
  },
  {
   "attachments": {},
   "cell_type": "markdown",
   "metadata": {},
   "source": [
    "If we cannot know the length of the stream, then we cannot pick one agnostically by simply getting a random number in a range between and checking the index matches.\n",
    "\n",
    "Instead, we need to perform this check on each item."
   ]
  },
  {
   "cell_type": "code",
   "execution_count": 41,
   "metadata": {},
   "outputs": [
    {
     "name": "stdout",
     "output_type": "stream",
     "text": [
      "picked 447\n",
      "picked 1649\n",
      "picked 2128\n",
      "picked 2406\n",
      "picked 6923\n",
      "picked 7595\n",
      "picked 9955\n"
     ]
    }
   ],
   "source": [
    "from random import random\n",
    "\n",
    "# will determine how frequently an item is `picked`\n",
    "# 0.5 should mean technically each item has 50/50 chance of being `picked`\n",
    "THRESHOLD = 0.95\n",
    "LIMIT     = 10_000\n",
    "\n",
    "for i in get_stream():\n",
    "    if round(random(),3) == 0.500:\n",
    "        print(f'picked {i}')\n",
    "\n",
    "    if i > LIMIT: break"
   ]
  },
  {
   "attachments": {},
   "cell_type": "markdown",
   "metadata": {},
   "source": [
    "# Retrospective"
   ]
  },
  {
   "attachments": {},
   "cell_type": "markdown",
   "metadata": {},
   "source": [
    "This challenge was difficult in that is was hard to test a correct solution. Though it did raise an interesting point about randomness, and how to produce uniform probability.\n",
    "\n",
    "I quite enjoyed this problem."
   ]
  }
 ],
 "metadata": {
  "kernelspec": {
   "display_name": "venv",
   "language": "python",
   "name": "python3"
  },
  "language_info": {
   "codemirror_mode": {
    "name": "ipython",
    "version": 3
   },
   "file_extension": ".py",
   "mimetype": "text/x-python",
   "name": "python",
   "nbconvert_exporter": "python",
   "pygments_lexer": "ipython3",
   "version": "3.11.0"
  },
  "orig_nbformat": 4
 },
 "nbformat": 4,
 "nbformat_minor": 2
}
