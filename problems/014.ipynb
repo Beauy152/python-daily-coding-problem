{
 "cells": [
  {
   "attachments": {},
   "cell_type": "markdown",
   "metadata": {},
   "source": [
    "# Problem 14\n",
    "## Asked by Google\n",
    "### description\n",
    "\n",
    "The area of a circle is defined as pi * r ^ 2, estimate pi to 3 decimal places using a monte carlo method.\n",
    "\n",
    "Hint: the basic equation of a circle is x^2 + y^2 = r^2"
   ]
  },
  {
   "attachments": {},
   "cell_type": "markdown",
   "metadata": {},
   "source": [
    "# Implementation"
   ]
  },
  {
   "cell_type": "code",
   "execution_count": 40,
   "metadata": {},
   "outputs": [
    {
     "name": "stdout",
     "output_type": "stream",
     "text": [
      "Pi Estimation: 3.141\n"
     ]
    }
   ],
   "source": [
    "from random import uniform\n",
    "\n",
    "R = 1\n",
    "RESOLUTION = 10_000_000\n",
    "DECIMALS = 3\n",
    "\n",
    "inside_circle  = 0\n",
    "all_points     = 0\n",
    "\n",
    "for i in range(RESOLUTION):\n",
    "    # Generate random coordinates from the domain (-1,1)\n",
    "    x, y = uniform(-1,1), uniform(-1,1)\n",
    "    all_points += 1\n",
    "\n",
    "    # Distance between (x,y) from origin.\n",
    "    distance = x**2 + y**2\n",
    "\n",
    "    if distance <= 1:\n",
    "        inside_circle += 1\n",
    "\n",
    "pi = 4 * (inside_circle / all_points )\n",
    "print(f\"Pi Estimation: {pi:.{3}f}\")"
   ]
  },
  {
   "attachments": {},
   "cell_type": "markdown",
   "metadata": {},
   "source": [
    "# Retrospective"
   ]
  },
  {
   "attachments": {},
   "cell_type": "markdown",
   "metadata": {},
   "source": [
    "For this problem, i was unfamilair with the category of `Monte Carlo Methods`, though it's simple enough to assume roughly based on the name. After doing some initial research into the problem (given i was unfamiliar), it became quite clear as to the approach to take. Overall this problem was quite simple to implement once i understood the theory of the problem."
   ]
  }
 ],
 "metadata": {
  "kernelspec": {
   "display_name": "venv",
   "language": "python",
   "name": "python3"
  },
  "language_info": {
   "codemirror_mode": {
    "name": "ipython",
    "version": 3
   },
   "file_extension": ".py",
   "mimetype": "text/x-python",
   "name": "python",
   "nbconvert_exporter": "python",
   "pygments_lexer": "ipython3",
   "version": "3.11.0"
  },
  "orig_nbformat": 4
 },
 "nbformat": 4,
 "nbformat_minor": 2
}
